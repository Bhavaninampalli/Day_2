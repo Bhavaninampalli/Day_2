{
 "cells": [
  {
   "cell_type": "code",
   "execution_count": null,
   "id": "5578fbb0",
   "metadata": {},
   "outputs": [],
   "source": [
    "Understanding the variables in python:"
   ]
  },
  {
   "cell_type": "code",
   "execution_count": null,
   "id": "f123dae6",
   "metadata": {},
   "outputs": [],
   "source": []
  },
  {
   "cell_type": "code",
   "execution_count": 1,
   "id": "42f55fb6",
   "metadata": {},
   "outputs": [],
   "source": [
    "x=2\n",
    "y=3"
   ]
  },
  {
   "cell_type": "code",
   "execution_count": 2,
   "id": "ab0fff85",
   "metadata": {},
   "outputs": [
    {
     "name": "stdout",
     "output_type": "stream",
     "text": [
      "5\n"
     ]
    }
   ],
   "source": [
    "z=x+y\n",
    "print(z)"
   ]
  },
  {
   "cell_type": "code",
   "execution_count": null,
   "id": "f444b028",
   "metadata": {},
   "outputs": [],
   "source": []
  },
  {
   "cell_type": "code",
   "execution_count": null,
   "id": "e935c548",
   "metadata": {},
   "outputs": [],
   "source": [
    "Rules for declaring the variables in python:"
   ]
  },
  {
   "cell_type": "code",
   "execution_count": null,
   "id": "9d67bdd0",
   "metadata": {},
   "outputs": [],
   "source": []
  },
  {
   "cell_type": "code",
   "execution_count": null,
   "id": "3288a222",
   "metadata": {},
   "outputs": [],
   "source": [
    "Rule no 1 : A variable name should not contain any namespaces in it."
   ]
  },
  {
   "cell_type": "code",
   "execution_count": 11,
   "id": "75043da6",
   "metadata": {},
   "outputs": [
    {
     "ename": "SyntaxError",
     "evalue": "invalid syntax (<ipython-input-11-304e9472b555>, line 1)",
     "output_type": "error",
     "traceback": [
      "\u001b[0;36m  File \u001b[0;32m\"<ipython-input-11-304e9472b555>\"\u001b[0;36m, line \u001b[0;32m1\u001b[0m\n\u001b[0;31m    first name = 'Bhavani'\u001b[0m\n\u001b[0m             ^\u001b[0m\n\u001b[0;31mSyntaxError\u001b[0m\u001b[0;31m:\u001b[0m invalid syntax\n"
     ]
    }
   ],
   "source": [
    "first name = 'Bhavani'\n",
    "print(first name)"
   ]
  },
  {
   "cell_type": "code",
   "execution_count": 12,
   "id": "9844d5f0",
   "metadata": {},
   "outputs": [
    {
     "name": "stdout",
     "output_type": "stream",
     "text": [
      "Bhavani\n"
     ]
    }
   ],
   "source": [
    "firstname = 'Bhavani'\n",
    "print(firstname)"
   ]
  },
  {
   "cell_type": "code",
   "execution_count": null,
   "id": "3e22ec70",
   "metadata": {},
   "outputs": [],
   "source": []
  },
  {
   "cell_type": "code",
   "execution_count": 13,
   "id": "3a2f0845",
   "metadata": {},
   "outputs": [
    {
     "name": "stdout",
     "output_type": "stream",
     "text": [
      "Bhavani\n"
     ]
    }
   ],
   "source": [
    "first_name = 'Bhavani'\n",
    "print(first_name)"
   ]
  },
  {
   "cell_type": "code",
   "execution_count": null,
   "id": "baab6ba9",
   "metadata": {},
   "outputs": [],
   "source": []
  },
  {
   "cell_type": "code",
   "execution_count": null,
   "id": "4ee69fbe",
   "metadata": {},
   "outputs": [],
   "source": [
    "Rule no 2 : A variable name should not start with a number."
   ]
  },
  {
   "cell_type": "code",
   "execution_count": 14,
   "id": "bd771f2f",
   "metadata": {},
   "outputs": [
    {
     "ename": "SyntaxError",
     "evalue": "invalid syntax (<ipython-input-14-35d231ba8868>, line 1)",
     "output_type": "error",
     "traceback": [
      "\u001b[0;36m  File \u001b[0;32m\"<ipython-input-14-35d231ba8868>\"\u001b[0;36m, line \u001b[0;32m1\u001b[0m\n\u001b[0;31m    1name = 'Bhavani'\u001b[0m\n\u001b[0m        ^\u001b[0m\n\u001b[0;31mSyntaxError\u001b[0m\u001b[0;31m:\u001b[0m invalid syntax\n"
     ]
    }
   ],
   "source": [
    "1name = 'Bhavani'\n",
    "print(1name)"
   ]
  },
  {
   "cell_type": "code",
   "execution_count": 15,
   "id": "d9e9e3c8",
   "metadata": {},
   "outputs": [
    {
     "name": "stdout",
     "output_type": "stream",
     "text": [
      "Bhavani\n"
     ]
    }
   ],
   "source": [
    "name1 = 'Bhavani'\n",
    "print(name1)"
   ]
  },
  {
   "cell_type": "code",
   "execution_count": 16,
   "id": "3fba6f38",
   "metadata": {},
   "outputs": [
    {
     "ename": "SyntaxError",
     "evalue": "invalid syntax (<ipython-input-16-edbd5f143b4e>, line 1)",
     "output_type": "error",
     "traceback": [
      "\u001b[0;36m  File \u001b[0;32m\"<ipython-input-16-edbd5f143b4e>\"\u001b[0;36m, line \u001b[0;32m1\u001b[0m\n\u001b[0;31m    Rule no 3 = A variable name should not contain any special characters\u001b[0m\n\u001b[0m          ^\u001b[0m\n\u001b[0;31mSyntaxError\u001b[0m\u001b[0;31m:\u001b[0m invalid syntax\n"
     ]
    }
   ],
   "source": [
    "Rule no 3 = A variable name should not contain any special characters \n",
    "\n",
    "name@ = 'Bhavani'\n",
    "print(name@)"
   ]
  },
  {
   "cell_type": "code",
   "execution_count": null,
   "id": "a181ac57",
   "metadata": {},
   "outputs": [],
   "source": []
  },
  {
   "cell_type": "code",
   "execution_count": null,
   "id": "9e410c98",
   "metadata": {},
   "outputs": [],
   "source": [
    "Introduction to datatypes in python :\n",
    "    \n",
    "    1. string -----> str\n",
    "    2. Numbers -----> integers(int) and floats (float)(decimals)\n",
    "    3. list ----> list\n",
    "    4. Dictionary ----> dict"
   ]
  },
  {
   "cell_type": "code",
   "execution_count": null,
   "id": "b8845224",
   "metadata": {},
   "outputs": [],
   "source": []
  },
  {
   "cell_type": "code",
   "execution_count": null,
   "id": "fe336c75",
   "metadata": {},
   "outputs": [],
   "source": [
    "Note : Python is a case sensitive language"
   ]
  },
  {
   "cell_type": "code",
   "execution_count": null,
   "id": "bb202f73",
   "metadata": {},
   "outputs": [],
   "source": []
  },
  {
   "cell_type": "code",
   "execution_count": null,
   "id": "065fbe2e",
   "metadata": {},
   "outputs": [],
   "source": [
    "Classification of datatypes : \n",
    "    two diff categeories :\n",
    "        1. mutable datatype ====> which we can edit or alter ====> these are flexible in nature\n",
    "        2. immutable datatype ====> which we cannot edit or alter ====> there are fixed in nature "
   ]
  },
  {
   "cell_type": "code",
   "execution_count": null,
   "id": "c9bb445a",
   "metadata": {},
   "outputs": [],
   "source": []
  },
  {
   "cell_type": "code",
   "execution_count": null,
   "id": "414bd6eb",
   "metadata": {},
   "outputs": [],
   "source": [
    "Introduction to string datatype : \n",
    "defination : A string is a series of characters declared in quotes\n",
    "classification : it is classified as immutable datatype\n",
    "how do u declare a string -----? 3 possible approches:\n",
    "    1. single quote\n",
    "    2. double quote\n",
    "    3. trible quotes"
   ]
  },
  {
   "cell_type": "code",
   "execution_count": null,
   "id": "9584b04e",
   "metadata": {},
   "outputs": [],
   "source": []
  },
  {
   "cell_type": "code",
   "execution_count": 17,
   "id": "e153f02d",
   "metadata": {},
   "outputs": [
    {
     "name": "stdout",
     "output_type": "stream",
     "text": [
      "Bhavani\n"
     ]
    }
   ],
   "source": [
    "name = 'Bhavani'      # single quote\n",
    "print(name)"
   ]
  },
  {
   "cell_type": "code",
   "execution_count": 18,
   "id": "122c1f95",
   "metadata": {},
   "outputs": [
    {
     "name": "stdout",
     "output_type": "stream",
     "text": [
      "Bhavani\n"
     ]
    }
   ],
   "source": [
    "name2 = \"Bhavani\"     # double quote\n",
    "print(name2)"
   ]
  },
  {
   "cell_type": "code",
   "execution_count": 19,
   "id": "7b465805",
   "metadata": {},
   "outputs": [
    {
     "name": "stdout",
     "output_type": "stream",
     "text": [
      "Bhavani\n"
     ]
    }
   ],
   "source": [
    "name3 = \"\"\"Bhavani\"\"\"  # triple quotes\n",
    "print(name3)"
   ]
  },
  {
   "cell_type": "code",
   "execution_count": null,
   "id": "91c2e1ea",
   "metadata": {},
   "outputs": [],
   "source": []
  },
  {
   "cell_type": "code",
   "execution_count": null,
   "id": "31a29c71",
   "metadata": {},
   "outputs": [],
   "source": [
    "# is used for commenting the code.... it wont impact"
   ]
  },
  {
   "cell_type": "code",
   "execution_count": 6,
   "id": "d90ec03c",
   "metadata": {},
   "outputs": [
    {
     "ename": "SyntaxError",
     "evalue": "invalid syntax (<ipython-input-6-5858543cac8a>, line 1)",
     "output_type": "error",
     "traceback": [
      "\u001b[0;36m  File \u001b[0;32m\"<ipython-input-6-5858543cac8a>\"\u001b[0;36m, line \u001b[0;32m1\u001b[0m\n\u001b[0;31m    is used for commenting the code.... it wont impact\u001b[0m\n\u001b[0m     ^\u001b[0m\n\u001b[0;31mSyntaxError\u001b[0m\u001b[0;31m:\u001b[0m invalid syntax\n"
     ]
    }
   ],
   "source": [
    "is used for commenting the code.... it wont impact"
   ]
  },
  {
   "cell_type": "code",
   "execution_count": 7,
   "id": "e4f5189e",
   "metadata": {},
   "outputs": [],
   "source": [
    "# is used for commenting the code.... it wont impact"
   ]
  },
  {
   "cell_type": "code",
   "execution_count": null,
   "id": "11a98c54",
   "metadata": {},
   "outputs": [],
   "source": []
  },
  {
   "cell_type": "code",
   "execution_count": null,
   "id": "90f0f686",
   "metadata": {},
   "outputs": [],
   "source": [
    "Introduction to string methods : "
   ]
  },
  {
   "cell_type": "code",
   "execution_count": null,
   "id": "a6389bc1",
   "metadata": {},
   "outputs": [],
   "source": [
    "type ----> it is used to validate the datatypes that we are using "
   ]
  },
  {
   "cell_type": "code",
   "execution_count": 8,
   "id": "5ab724d1",
   "metadata": {},
   "outputs": [
    {
     "data": {
      "text/plain": [
       "str"
      ]
     },
     "execution_count": 8,
     "metadata": {},
     "output_type": "execute_result"
    }
   ],
   "source": [
    "type(name)"
   ]
  },
  {
   "cell_type": "code",
   "execution_count": 9,
   "id": "dc08c87c",
   "metadata": {},
   "outputs": [
    {
     "data": {
      "text/plain": [
       "str"
      ]
     },
     "execution_count": 9,
     "metadata": {},
     "output_type": "execute_result"
    }
   ],
   "source": [
    "type(name2)"
   ]
  },
  {
   "cell_type": "code",
   "execution_count": 10,
   "id": "5ddd53b8",
   "metadata": {},
   "outputs": [
    {
     "data": {
      "text/plain": [
       "str"
      ]
     },
     "execution_count": 10,
     "metadata": {},
     "output_type": "execute_result"
    }
   ],
   "source": [
    "type(name3)"
   ]
  },
  {
   "cell_type": "code",
   "execution_count": null,
   "id": "92eff869",
   "metadata": {},
   "outputs": [],
   "source": []
  },
  {
   "cell_type": "code",
   "execution_count": null,
   "id": "70afde63",
   "metadata": {},
   "outputs": [],
   "source": []
  },
  {
   "cell_type": "code",
   "execution_count": null,
   "id": "fb23c8be",
   "metadata": {},
   "outputs": [],
   "source": []
  }
 ],
 "metadata": {
  "kernelspec": {
   "display_name": "Python 3",
   "language": "python",
   "name": "python3"
  },
  "language_info": {
   "codemirror_mode": {
    "name": "ipython",
    "version": 3
   },
   "file_extension": ".py",
   "mimetype": "text/x-python",
   "name": "python",
   "nbconvert_exporter": "python",
   "pygments_lexer": "ipython3",
   "version": "3.6.13"
  }
 },
 "nbformat": 4,
 "nbformat_minor": 5
}
